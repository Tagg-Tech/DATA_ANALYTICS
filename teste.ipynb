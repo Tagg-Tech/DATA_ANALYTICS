{
 "cells": [
  {
   "cell_type": "code",
   "execution_count": 1,
   "metadata": {},
   "outputs": [],
   "source": [
    "import pandas as pd"
   ]
  },
  {
   "cell_type": "code",
   "execution_count": 2,
   "metadata": {},
   "outputs": [],
   "source": [
    "df = pd.read_csv('dados_trafego.csv')"
   ]
  },
  {
   "cell_type": "code",
   "execution_count": 4,
   "metadata": {},
   "outputs": [
    {
     "data": {
      "text/html": [
       "<div>\n",
       "<style scoped>\n",
       "    .dataframe tbody tr th:only-of-type {\n",
       "        vertical-align: middle;\n",
       "    }\n",
       "\n",
       "    .dataframe tbody tr th {\n",
       "        vertical-align: top;\n",
       "    }\n",
       "\n",
       "    .dataframe thead th {\n",
       "        text-align: right;\n",
       "    }\n",
       "</style>\n",
       "<table border=\"1\" class=\"dataframe\">\n",
       "  <thead>\n",
       "    <tr style=\"text-align: right;\">\n",
       "      <th></th>\n",
       "      <th>localizacao</th>\n",
       "      <th>velocidadeAtual</th>\n",
       "      <th>velocidadeLivre</th>\n",
       "      <th>confiabilidade</th>\n",
       "      <th>coordenadas_inicial</th>\n",
       "      <th>coordenadas_final</th>\n",
       "    </tr>\n",
       "  </thead>\n",
       "  <tbody>\n",
       "    <tr>\n",
       "      <th>175</th>\n",
       "      <td>-29.626833,-51.775773</td>\n",
       "      <td>85</td>\n",
       "      <td>85</td>\n",
       "      <td>1.0</td>\n",
       "      <td>{'latitude': -29.6159809421478, 'longitude': -...</td>\n",
       "      <td>{'latitude': -29.635172139923448, 'longitude':...</td>\n",
       "    </tr>\n",
       "    <tr>\n",
       "      <th>176</th>\n",
       "      <td>-28.905316,-52.396797</td>\n",
       "      <td>83</td>\n",
       "      <td>83</td>\n",
       "      <td>1.0</td>\n",
       "      <td>{'latitude': -28.80469586454755, 'longitude': ...</td>\n",
       "      <td>{'latitude': -28.974120285298984, 'longitude':...</td>\n",
       "    </tr>\n",
       "    <tr>\n",
       "      <th>177</th>\n",
       "      <td>-28.502039,-52.644709</td>\n",
       "      <td>88</td>\n",
       "      <td>88</td>\n",
       "      <td>1.0</td>\n",
       "      <td>{'latitude': -28.47682531087369, 'longitude': ...</td>\n",
       "      <td>{'latitude': -28.679877920943582, 'longitude':...</td>\n",
       "    </tr>\n",
       "    <tr>\n",
       "      <th>178</th>\n",
       "      <td>-29.885897,-50.448964</td>\n",
       "      <td>105</td>\n",
       "      <td>105</td>\n",
       "      <td>1.0</td>\n",
       "      <td>{'latitude': -29.880346150627172, 'longitude':...</td>\n",
       "      <td>{'latitude': -29.868910604057806, 'longitude':...</td>\n",
       "    </tr>\n",
       "    <tr>\n",
       "      <th>179</th>\n",
       "      <td>-29.925023,-50.859104</td>\n",
       "      <td>105</td>\n",
       "      <td>105</td>\n",
       "      <td>1.0</td>\n",
       "      <td>{'latitude': -29.943115255723082, 'longitude':...</td>\n",
       "      <td>{'latitude': -29.912154460689468, 'longitude':...</td>\n",
       "    </tr>\n",
       "  </tbody>\n",
       "</table>\n",
       "</div>"
      ],
      "text/plain": [
       "               localizacao  velocidadeAtual  velocidadeLivre  confiabilidade  \\\n",
       "175  -29.626833,-51.775773               85               85             1.0   \n",
       "176  -28.905316,-52.396797               83               83             1.0   \n",
       "177  -28.502039,-52.644709               88               88             1.0   \n",
       "178  -29.885897,-50.448964              105              105             1.0   \n",
       "179  -29.925023,-50.859104              105              105             1.0   \n",
       "\n",
       "                                   coordenadas_inicial  \\\n",
       "175  {'latitude': -29.6159809421478, 'longitude': -...   \n",
       "176  {'latitude': -28.80469586454755, 'longitude': ...   \n",
       "177  {'latitude': -28.47682531087369, 'longitude': ...   \n",
       "178  {'latitude': -29.880346150627172, 'longitude':...   \n",
       "179  {'latitude': -29.943115255723082, 'longitude':...   \n",
       "\n",
       "                                     coordenadas_final  \n",
       "175  {'latitude': -29.635172139923448, 'longitude':...  \n",
       "176  {'latitude': -28.974120285298984, 'longitude':...  \n",
       "177  {'latitude': -28.679877920943582, 'longitude':...  \n",
       "178  {'latitude': -29.868910604057806, 'longitude':...  \n",
       "179  {'latitude': -29.912154460689468, 'longitude':...  "
      ]
     },
     "execution_count": 4,
     "metadata": {},
     "output_type": "execute_result"
    }
   ],
   "source": [
    "df.tail()"
   ]
  },
  {
   "cell_type": "code",
   "execution_count": null,
   "metadata": {},
   "outputs": [],
   "source": []
  }
 ],
 "metadata": {
  "kernelspec": {
   "display_name": "Python 3",
   "language": "python",
   "name": "python3"
  },
  "language_info": {
   "codemirror_mode": {
    "name": "ipython",
    "version": 3
   },
   "file_extension": ".py",
   "mimetype": "text/x-python",
   "name": "python",
   "nbconvert_exporter": "python",
   "pygments_lexer": "ipython3",
   "version": "3.8.19"
  }
 },
 "nbformat": 4,
 "nbformat_minor": 2
}
