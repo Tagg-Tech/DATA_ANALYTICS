{
 "cells": [
  {
   "cell_type": "code",
   "execution_count": 6,
   "metadata": {},
   "outputs": [],
   "source": [
    "\n",
    "import requests\n",
    "import json #pip install json\n",
    "import dotenv\n",
    "import os\n",
    "\n",
    "\n",
    "dotenv.load_dotenv(dotenv.find_dotenv())\n",
    "iTOKEN = os.getenv(\"CLIMA_TOKEN\")\n",
    "iCIDADE = \"6895\""
   ]
  },
  {
   "cell_type": "code",
   "execution_count": 7,
   "metadata": {},
   "outputs": [
    {
     "name": "stdout",
     "output_type": "stream",
     "text": [
      "{'error': True, 'detail': 'Access forbidden, you have no acces for this locale: 6895'}\n",
      "error : True\n",
      "detail : Access forbidden, you have no acces for this locale: 6895\n"
     ]
    },
    {
     "ename": "KeyError",
     "evalue": "'data'",
     "output_type": "error",
     "traceback": [
      "\u001b[1;31m---------------------------------------------------------------------------\u001b[0m",
      "\u001b[1;31mKeyError\u001b[0m                                  Traceback (most recent call last)",
      "Cell \u001b[1;32mIn[7], line 7\u001b[0m\n\u001b[0;32m      5\u001b[0m \u001b[38;5;28;01mfor\u001b[39;00m iCHAVE \u001b[38;5;129;01min\u001b[39;00m iRETORNO_REQ:\n\u001b[0;32m      6\u001b[0m     \u001b[38;5;28mprint\u001b[39m(iCHAVE \u001b[38;5;241m+\u001b[39m \u001b[38;5;124m\"\u001b[39m\u001b[38;5;124m : \u001b[39m\u001b[38;5;124m\"\u001b[39m \u001b[38;5;241m+\u001b[39m \u001b[38;5;28mstr\u001b[39m(iRETORNO_REQ[iCHAVE]))\n\u001b[1;32m----> 7\u001b[0m \u001b[38;5;28;01mfor\u001b[39;00m iCHAVE \u001b[38;5;129;01min\u001b[39;00m iRETORNO_REQ[\u001b[38;5;124m'\u001b[39m\u001b[38;5;124mdata\u001b[39m\u001b[38;5;124m'\u001b[39m]:\n\u001b[0;32m      8\u001b[0m     \u001b[38;5;28mprint\u001b[39m(iCHAVE \u001b[38;5;241m+\u001b[39m \u001b[38;5;124m\"\u001b[39m\u001b[38;5;124m : \u001b[39m\u001b[38;5;124m\"\u001b[39m \u001b[38;5;241m+\u001b[39m \u001b[38;5;28mstr\u001b[39m(iRETORNO_REQ[\u001b[38;5;124m'\u001b[39m\u001b[38;5;124mdata\u001b[39m\u001b[38;5;124m'\u001b[39m][iCHAVE]) )\n",
      "\u001b[1;31mKeyError\u001b[0m: 'data'"
     ]
    }
   ],
   "source": [
    "iURL = \"http://apiadvisor.climatempo.com.br/api/v1/weather/locale/\" + iCIDADE + \"/current?token=\" + iTOKEN\n",
    "iRESPONSE = requests.request(\"GET\", iURL)\n",
    "iRETORNO_REQ = json.loads(iRESPONSE.text)\n",
    "print(iRETORNO_REQ)\n",
    "for iCHAVE in iRETORNO_REQ:\n",
    "    print(iCHAVE + \" : \" + str(iRETORNO_REQ[iCHAVE]))\n",
    "for iCHAVE in iRETORNO_REQ['data']:\n",
    "    print(iCHAVE + \" : \" + str(iRETORNO_REQ['data'][iCHAVE]) )"
   ]
  },
  {
   "cell_type": "code",
   "execution_count": 7,
   "metadata": {},
   "outputs": [
    {
     "name": "stdout",
     "output_type": "stream",
     "text": [
      "Country: BR\n",
      "date: 2024-03-31\n",
      "Text: A Zona de Convergência Intertropical (ZCIT) está ativa e espalha nuvens carregadas pelo RN e o norte do CE. Uma nova frente fria já começa a influenciar o tempo no RS. No começo da tarde deste domingo (31), pancadas de chuva eram observadas na fronteira com o Uruguai. Até à noite, as pancadas de chuva se espalham por mais áreas do estado. Uma área de baixa pressão no Paraguai, associado a um cavado nos níveis médios da atmosfera, estimula a formação de nuvens carregadas em MS. \n",
      "\n"
     ]
    }
   ],
   "source": [
    "#2=Status do tempo no país\n",
    "iURL = \"http://apiadvisor.climatempo.com.br/api/v1/anl/synoptic/locale/BR?token=\" + iTOKEN\n",
    "iRESPONSE = requests.request(\"GET\", iURL)\n",
    "iRETORNO_REQ = json.loads(iRESPONSE.text)\n",
    "#print(iRETORNO_REQ)\n",
    "for iCHAVE in iRETORNO_REQ:\n",
    "    print(\"Country: \" + iCHAVE.get('country'))\n",
    "    print(\"date: \" + iCHAVE.get('date'))\n",
    "    print(\"Text: \" + iCHAVE.get('text') + \"\\n\")"
   ]
  },
  {
   "cell_type": "code",
   "execution_count": 8,
   "metadata": {},
   "outputs": [
    {
     "name": "stdout",
     "output_type": "stream",
     "text": [
      "\n",
      "cidade: São Paulo-SP\n",
      "data: 14/10/2024 chuva: 67% temp: min(15) max(15) resumo: Sol com muitas nuvens durante o dia e períodos de céu nublado. Noite com muitas nuvens.\n",
      "\n",
      "data: 15/10/2024 chuva: 32% temp: min(14) max(14) resumo: Sol com muitas nuvens durante o dia e períodos de céu nublado. Noite com poucas nuvens.\n",
      "\n",
      "data: 16/10/2024 chuva: 38% temp: min(14) max(14) resumo: Sol com muitas nuvens durante o dia e períodos de céu nublado. Noite com poucas nuvens.\n",
      "\n",
      "data: 17/10/2024 chuva: 69% temp: min(16) max(16) resumo: Dia de sol com algumas nuvens e névoa ao amanhecer. Noite com poucas nuvens.\n",
      "\n",
      "data: 18/10/2024 chuva: 71% temp: min(16) max(16) resumo: Sol com muitas nuvens. Pancadas de chuva à tarde e à noite.\n",
      "\n",
      "data: 19/10/2024 chuva: 84% temp: min(18) max(18) resumo: Chuvoso durante o dia. À noite pode chuviscar e o céu ainda fica nublado.\n",
      "\n",
      "data: 20/10/2024 chuva: 90% temp: min(19) max(19) resumo: Céu nublado com possibilidade de garoa de manhã. À tarde o sol aparece. Pancadas de chuva à tarde e à noite.\n",
      "\n"
     ]
    }
   ],
   "source": [
    "#3=Previsao para os proximas 15 dias\n",
    "iURL = \"http://apiadvisor.climatempo.com.br/api/v1/forecast/locale/\" + iCIDADE + \"/days/15?token=\" + iTOKEN\n",
    "iRESPONSE = requests.request(\"GET\", iURL)\n",
    "iRETORNO_REQ = json.loads(iRESPONSE.text)\n",
    "#print(iRETORNO_REQ)\n",
    "print(\"\\ncidade: \" + str(iRETORNO_REQ.get('name')) + \"-\" + str(iRETORNO_REQ.get('state')))\n",
    "for iCHAVE in iRETORNO_REQ['data']:\n",
    "    iDATA = iCHAVE.get('date_br')\n",
    "    iCHUVA = iCHAVE['rain']['probability']\n",
    "    iTEXTMORNING = iCHAVE['text_icon']['text']['phrase']['reduced']\n",
    "    iTEMPERATURAMIN = iCHAVE['temperature']['min']\n",
    "    iTEMPERATURAMAX = iCHAVE['temperature']['min']\n",
    "    print(\"data: \" + str(iDATA) + \" chuva: \" + str(iCHUVA) + \"%\" + \" temp: min(\" + str(iTEMPERATURAMIN) + \") max(\" + str(iTEMPERATURAMAX) + \") resumo: \" + str(iTEXTMORNING) + \"\\n\")"
   ]
  },
  {
   "cell_type": "code",
   "execution_count": 8,
   "metadata": {},
   "outputs": [
    {
     "name": "stdout",
     "output_type": "stream",
     "text": [
      "data: 13/10/2024 texto: sem dados para esta data\n",
      "\n",
      "data: 14/10/2024 texto: sem dados para esta data\n",
      "\n",
      "data: 15/10/2024 texto: sem dados para esta data\n",
      "\n"
     ]
    }
   ],
   "source": [
    "#4=Previsao para os proximas 3 dias por regiao\n",
    "iURL = \"http://apiadvisor.climatempo.com.br/api/v1/forecast/region/centro-oeste?token=\" + iTOKEN\n",
    "iRESPONSE = requests.request(\"GET\", iURL)\n",
    "iRETORNO_REQ = json.loads(iRESPONSE.text)\n",
    "#print(iRETORNO_REQ)\n",
    "for iCHAVE in iRETORNO_REQ['data']:\n",
    "    iDATA = iCHAVE.get('date_br')\n",
    "    iTEXT = (iCHAVE.get('text'))\n",
    "    if iTEXT == None:\n",
    "        iTEXT = \"sem dados para esta data\"\n",
    "    print(\"data: \" + str(iDATA) + \" texto: \" + str(iTEXT) + \"\\n\")"
   ]
  },
  {
   "cell_type": "code",
   "execution_count": 9,
   "metadata": {},
   "outputs": [
    {
     "name": "stdout",
     "output_type": "stream",
     "text": [
      "data:13/10/2024 00:00:00 16.3º\n",
      "\n",
      "data:13/10/2024 01:00:00 16.1º\n",
      "\n",
      "data:13/10/2024 02:00:00 16º\n",
      "\n",
      "data:13/10/2024 03:00:00 16.5º\n",
      "\n",
      "data:13/10/2024 04:00:00 16.3º\n",
      "\n",
      "data:13/10/2024 05:00:00 16.1º\n",
      "\n",
      "data:13/10/2024 06:00:00 15.6º\n",
      "\n",
      "data:13/10/2024 07:00:00 15.7º\n",
      "\n",
      "data:13/10/2024 08:00:00 15.2º\n",
      "\n",
      "data:13/10/2024 09:00:00 16º\n",
      "\n",
      "data:13/10/2024 10:00:00 17.3º\n",
      "\n",
      "data:13/10/2024 11:00:00 18.7º\n",
      "\n",
      "data:13/10/2024 12:00:00 20.3º\n",
      "\n",
      "data:13/10/2024 13:00:00 21.9º\n",
      "\n",
      "data:13/10/2024 14:00:00 24.6º\n",
      "\n",
      "data:13/10/2024 15:00:00 25º\n",
      "\n",
      "data:13/10/2024 16:00:00 25.5º\n",
      "\n",
      "data:13/10/2024 17:00:00 26º\n",
      "\n",
      "data:13/10/2024 18:00:00 23.5º\n",
      "\n",
      "data:13/10/2024 19:00:00 20º\n",
      "\n",
      "data:13/10/2024 20:00:00 18.1º\n",
      "\n",
      "data:13/10/2024 21:00:00 17.2º\n",
      "\n",
      "data:13/10/2024 22:00:00 17º\n",
      "\n",
      "data:13/10/2024 23:00:00 16.8º\n",
      "\n",
      "data:14/10/2024 00:00:00 16.6º\n",
      "\n",
      "data:14/10/2024 01:00:00 16.5º\n",
      "\n",
      "data:14/10/2024 02:00:00 16.4º\n",
      "\n",
      "data:14/10/2024 03:00:00 16.3º\n",
      "\n",
      "data:14/10/2024 04:00:00 16.2º\n",
      "\n",
      "data:14/10/2024 05:00:00 16º\n",
      "\n",
      "data:14/10/2024 06:00:00 15.6º\n",
      "\n",
      "data:14/10/2024 07:00:00 15.4º\n",
      "\n",
      "data:14/10/2024 08:00:00 15.2º\n",
      "\n",
      "data:14/10/2024 09:00:00 15º\n",
      "\n",
      "data:14/10/2024 10:00:00 16.8º\n",
      "\n",
      "data:14/10/2024 11:00:00 17.7º\n",
      "\n",
      "data:14/10/2024 12:00:00 20.5º\n",
      "\n",
      "data:14/10/2024 13:00:00 23º\n",
      "\n",
      "data:14/10/2024 14:00:00 24.4º\n",
      "\n",
      "data:14/10/2024 15:00:00 26.4º\n",
      "\n",
      "data:14/10/2024 16:00:00 25.8º\n",
      "\n",
      "data:14/10/2024 17:00:00 25º\n",
      "\n",
      "data:14/10/2024 18:00:00 23º\n",
      "\n",
      "data:14/10/2024 19:00:00 21º\n",
      "\n",
      "data:14/10/2024 20:00:00 18.7º\n",
      "\n",
      "data:14/10/2024 21:00:00 17.7º\n",
      "\n",
      "data:14/10/2024 22:00:00 17.1º\n",
      "\n",
      "data:14/10/2024 23:00:00 16.4º\n",
      "\n",
      "data:15/10/2024 00:00:00 16.1º\n",
      "\n",
      "data:15/10/2024 01:00:00 15.8º\n",
      "\n",
      "data:15/10/2024 02:00:00 15.5º\n",
      "\n",
      "data:15/10/2024 03:00:00 15º\n",
      "\n",
      "data:15/10/2024 04:00:00 14.7º\n",
      "\n",
      "data:15/10/2024 05:00:00 14.5º\n",
      "\n",
      "data:15/10/2024 06:00:00 14.5º\n",
      "\n",
      "data:15/10/2024 07:00:00 14.2º\n",
      "\n",
      "data:15/10/2024 08:00:00 14º\n",
      "\n",
      "data:15/10/2024 09:00:00 14º\n",
      "\n",
      "data:15/10/2024 10:00:00 15.1º\n",
      "\n",
      "data:15/10/2024 11:00:00 17.2º\n",
      "\n",
      "data:15/10/2024 12:00:00 19.4º\n",
      "\n",
      "data:15/10/2024 13:00:00 21.8º\n",
      "\n",
      "data:15/10/2024 14:00:00 24º\n",
      "\n",
      "data:15/10/2024 15:00:00 25.6º\n",
      "\n",
      "data:15/10/2024 16:00:00 26.3º\n",
      "\n",
      "data:15/10/2024 17:00:00 27.5º\n",
      "\n",
      "data:15/10/2024 18:00:00 28º\n",
      "\n",
      "data:15/10/2024 19:00:00 26º\n",
      "\n",
      "data:15/10/2024 20:00:00 23.7º\n",
      "\n",
      "data:15/10/2024 21:00:00 21.4º\n",
      "\n",
      "data:15/10/2024 22:00:00 19.1º\n",
      "\n",
      "data:15/10/2024 23:00:00 17.4º\n",
      "\n"
     ]
    }
   ],
   "source": [
    "\n",
    "\n",
    "\n",
    "#5=Previsao para as proximas 72 horas\n",
    "iURL = \"http://apiadvisor.climatempo.com.br/api/v1/forecast/locale/\" + iCIDADE + \"/hours/72?token=\" + iTOKEN\n",
    "iRESPONSE = requests.request(\"GET\", iURL)\n",
    "iRETORNO_REQ = json.loads(iRESPONSE.text)\n",
    "#print(iRETORNO_REQ)\n",
    "for iCHAVE in iRETORNO_REQ['data']:\n",
    "    iDATA = iCHAVE.get('date_br')\n",
    "    iTEMPERATURA = iCHAVE['temperature']['temperature']\n",
    "    print(\"data:\" + str(iDATA) + \" \" + str(iTEMPERATURA) + \"º\" + \"\\n\")"
   ]
  },
  {
   "cell_type": "code",
   "execution_count": 16,
   "metadata": {},
   "outputs": [
    {
     "ename": "",
     "evalue": "",
     "output_type": "error",
     "traceback": [
      "\u001b[1;31mThe Kernel crashed while executing code in the current cell or a previous cell. \n",
      "\u001b[1;31mPlease review the code in the cell(s) to identify a possible cause of the failure. \n",
      "\u001b[1;31mClick <a href='https://aka.ms/vscodeJupyterKernelCrash'>here</a> for more info. \n",
      "\u001b[1;31mView Jupyter <a href='command:jupyter.viewOutput'>log</a> for further details."
     ]
    }
   ],
   "source": [
    "\n",
    "\n",
    "#6=Pesquisa ID da Cidade\n",
    "iCITY = input('Informe aqui o nome da cidade: ')\n",
    "iURL = \"http://apiadvisor.climatempo.com.br/api/v1/locale/city?name=\" + iCITY + \"&token=\" + iTOKEN\n",
    "iRESPONSE = requests.request(\"GET\", iURL)\n",
    "iRETORNO_REQ = json.loads(iRESPONSE.text)\n",
    "#print(iRETORNO_REQ)\n",
    "for iCHAVE in iRETORNO_REQ:\n",
    "    iID = iCHAVE['id']\n",
    "    iNAME = iCHAVE['name']\n",
    "    iSTATE = iCHAVE['state']\n",
    "    iCOUNTRY = iCHAVE['country']\n",
    "    print(\"id:\" + str(iID) + \" - \" + \"stlocalesidate:\" + str(iSTATE) + \" - \" + \"country:\" + str(iCOUNTRY) + \" - \" + \"name:\" + str(iNAME) + \"\\n\") \n",
    "iNEWCITY = input('Informe o ID da nova cidade ou 0(zero) para sair: ')\n",
    "if iNEWCITY != \"0\":\n",
    "    iURL = \"http://apiadvisor.climatempo.com.br/api-manager/user-token/\"+ iTOKEN + \"/locales\" \n",
    "    payload=\"localeId[]=\" + iNEWCITY\n",
    "    headers = {\n",
    "    'Content-Type': 'application/x-www-form-urlencoded'\n",
    "    }\n",
    "    iRESPONSE = requests.request(\"PUT\", iURL, headers=headers, data=payload)\n",
    "    print(iRESPONSE.text)\n",
    "else:\n",
    "    exit()"
   ]
  },
  {
   "cell_type": "code",
   "execution_count": 9,
   "metadata": {},
   "outputs": [
    {
     "name": "stdout",
     "output_type": "stream",
     "text": [
      "id: [3477]\n"
     ]
    }
   ],
   "source": [
    "\n",
    "#7=Pesquisar o id da cidade vinculado ao seu Token\n",
    "iURL = \"http://apiadvisor.climatempo.com.br/api-manager/user-token/\" + iTOKEN + \"/locales\" \n",
    "iRESPONSE = requests.request(\"GET\", iURL)\n",
    "iRETORNO_REQ = json.loads(iRESPONSE.text)\n",
    "print(\"id: \" + str(iRETORNO_REQ['locales']))"
   ]
  },
  {
   "cell_type": "code",
   "execution_count": 10,
   "metadata": {},
   "outputs": [
    {
     "name": "stdout",
     "output_type": "stream",
     "text": [
      "id: 3477\n",
      "name: São Paulo\n",
      "state: SP\n",
      "country: BR  \n",
      "\n"
     ]
    }
   ],
   "source": [
    "\n",
    "#8=Pesquisar a cidade por ID\n",
    "iURL = \"http://apiadvisor.climatempo.com.br/api/v1/locale/city/\" + iCIDADE + \"?token=\" + iTOKEN \n",
    "iRESPONSE = requests.request(\"GET\", iURL)\n",
    "iRETORNO_REQ = json.loads(iRESPONSE.text)\n",
    "#print(iRETORNO_REQ)\n",
    "print(\"id: \" + str(iRETORNO_REQ.get('id')))\n",
    "print(\"name: \" + str(iRETORNO_REQ.get('name')))\n",
    "print(\"state: \" + str(iRETORNO_REQ.get('state')))\n",
    "print(\"country: \" + str(iRETORNO_REQ.get('country')) + \"\\n\")"
   ]
  },
  {
   "cell_type": "code",
   "execution_count": 11,
   "metadata": {},
   "outputs": [
    {
     "name": "stdout",
     "output_type": "stream",
     "text": [
      "{\"error\":true,\"detail\":\"Your free plan only allows to update cities after 24 hours from the last update (2024-10-13 17:23:19 America/Sao_Paulo -03:00)\"}\n"
     ]
    }
   ],
   "source": [
    "\n",
    "#9=Alterar o ID da cidade relacionada ao Token\n",
    "iURL = \"http://apiadvisor.climatempo.com.br/api-manager/user-token/\"+ iTOKEN + \"/locales\" \n",
    "payload=\"localeId[]=\" + iCIDADE\n",
    "headers = {\n",
    "'Content-Type': 'application/x-www-form-urlencoded'\n",
    "}\n",
    "iRESPONSE = requests.request(\"PUT\", iURL, headers=headers, data=payload)\n",
    "print(iRESPONSE.text)"
   ]
  }
 ],
 "metadata": {
  "kernelspec": {
   "display_name": "Python 3",
   "language": "python",
   "name": "python3"
  },
  "language_info": {
   "codemirror_mode": {
    "name": "ipython",
    "version": 3
   },
   "file_extension": ".py",
   "mimetype": "text/x-python",
   "name": "python",
   "nbconvert_exporter": "python",
   "pygments_lexer": "ipython3",
   "version": "3.11.7"
  }
 },
 "nbformat": 4,
 "nbformat_minor": 2
}
